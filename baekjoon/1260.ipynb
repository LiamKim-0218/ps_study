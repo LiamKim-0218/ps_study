{
 "cells": [
  {
   "cell_type": "code",
   "execution_count": null,
   "id": "e0a092a0",
   "metadata": {},
   "outputs": [],
   "source": [
    "N, M, V = int(input())\n",
    "graph=[[0]*(N+1)for _ in range(N+1)]\n",
    "visit=[0]*(N+1)\n",
    "\n",
    "for _ in range(M):\n",
    "    a, b = int(input().split())\n",
    "    graph[a][b]=graph[b][a]=1\n",
    "    \n",
    "def bfs(V):\n",
    "    for _ \n",
    "    \n",
    "def dfs(V):\n",
    "    visit[V]=1\n",
    "    print(V,end='')\n",
    "    for i in range(1,N+1):\n",
    "        if (visit[i] == 0 and graph[V][i] == 1): #배열에서 새로운 1을 찾은값\n",
    "            dfs(i)"
   ]
  }
 ],
 "metadata": {
  "kernelspec": {
   "display_name": "Python 3 (ipykernel)",
   "language": "python",
   "name": "python3"
  },
  "language_info": {
   "codemirror_mode": {
    "name": "ipython",
    "version": 3
   },
   "file_extension": ".py",
   "mimetype": "text/x-python",
   "name": "python",
   "nbconvert_exporter": "python",
   "pygments_lexer": "ipython3",
   "version": "3.9.13"
  }
 },
 "nbformat": 4,
 "nbformat_minor": 5
}
